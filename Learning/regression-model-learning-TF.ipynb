{
 "cells": [
  {
   "cell_type": "code",
   "execution_count": 2,
   "metadata": {},
   "outputs": [],
   "source": [
    "import numpy as np\n",
    "import matplotlib.pyplot as plt\n",
    "import pandas as pd\n",
    "import tensorflow as tf"
   ]
  },
  {
   "cell_type": "code",
   "execution_count": 2,
   "metadata": {},
   "outputs": [
    {
     "data": {
      "text/plain": [
       "(array([ 1,  3,  5,  7,  9, 11, 13, 15, 17, 19, 21, 23, 25, 27, 29, 31, 33,\n",
       "        35, 37, 39, 41, 43, 45, 47, 49, 51, 53, 55, 57, 59, 61, 63, 65, 67,\n",
       "        69, 71, 73, 75, 77, 79, 81, 83, 85, 87, 89, 91, 93, 95, 97, 99]),\n",
       " array([ 0,  2,  4,  6,  8, 10, 12, 14, 16, 18, 20, 22, 24, 26, 28, 30, 32,\n",
       "        34, 36, 38, 40, 42, 44, 46, 48, 50, 52, 54, 56, 58, 60, 62, 64, 66,\n",
       "        68, 70, 72, 74, 76, 78, 80, 82, 84, 86, 88, 90, 92, 94, 96, 98]))"
      ]
     },
     "execution_count": 2,
     "metadata": {},
     "output_type": "execute_result"
    }
   ],
   "source": [
    "X = np.arange(1,100,2)\n",
    "Y = np.arange(0,100,2)\n",
    "X, Y"
   ]
  },
  {
   "cell_type": "code",
   "execution_count": 3,
   "metadata": {},
   "outputs": [
    {
     "data": {
      "text/plain": [
       "(<tf.Tensor: shape=(50,), dtype=int64, numpy=\n",
       " array([ 1,  3,  5,  7,  9, 11, 13, 15, 17, 19, 21, 23, 25, 27, 29, 31, 33,\n",
       "        35, 37, 39, 41, 43, 45, 47, 49, 51, 53, 55, 57, 59, 61, 63, 65, 67,\n",
       "        69, 71, 73, 75, 77, 79, 81, 83, 85, 87, 89, 91, 93, 95, 97, 99])>,\n",
       " <tf.Tensor: shape=(50,), dtype=int64, numpy=\n",
       " array([ 0,  2,  4,  6,  8, 10, 12, 14, 16, 18, 20, 22, 24, 26, 28, 30, 32,\n",
       "        34, 36, 38, 40, 42, 44, 46, 48, 50, 52, 54, 56, 58, 60, 62, 64, 66,\n",
       "        68, 70, 72, 74, 76, 78, 80, 82, 84, 86, 88, 90, 92, 94, 96, 98])>)"
      ]
     },
     "execution_count": 3,
     "metadata": {},
     "output_type": "execute_result"
    }
   ],
   "source": [
    "X = tf.constant(X)\n",
    "Y = tf.constant(Y)\n",
    "X,Y"
   ]
  },
  {
   "cell_type": "code",
   "execution_count": 15,
   "metadata": {},
   "outputs": [
    {
     "name": "stdout",
     "output_type": "stream",
     "text": [
      "Epoch 1/50\n",
      "2/2 [==============================] - 0s 5ms/step - loss: 49.0416 - mae: 49.0416\n",
      "Epoch 2/50\n",
      "2/2 [==============================] - 0s 2ms/step - loss: 48.5555 - mae: 48.5555\n",
      "Epoch 3/50\n",
      "2/2 [==============================] - 0s 1ms/step - loss: 48.0721 - mae: 48.0721\n",
      "Epoch 4/50\n",
      "2/2 [==============================] - 0s 2ms/step - loss: 47.5844 - mae: 47.5844\n",
      "Epoch 5/50\n",
      "2/2 [==============================] - 0s 2ms/step - loss: 47.1029 - mae: 47.1029\n",
      "Epoch 6/50\n",
      "2/2 [==============================] - 0s 4ms/step - loss: 46.6124 - mae: 46.6124\n",
      "Epoch 7/50\n",
      "2/2 [==============================] - 0s 1ms/step - loss: 46.1022 - mae: 46.1022\n",
      "Epoch 8/50\n",
      "2/2 [==============================] - 0s 1ms/step - loss: 45.5872 - mae: 45.5872\n",
      "Epoch 9/50\n",
      "2/2 [==============================] - 0s 1ms/step - loss: 45.0786 - mae: 45.0786\n",
      "Epoch 10/50\n",
      "2/2 [==============================] - 0s 2ms/step - loss: 44.5773 - mae: 44.5773\n",
      "Epoch 11/50\n",
      "2/2 [==============================] - 0s 2ms/step - loss: 44.0686 - mae: 44.0686\n",
      "Epoch 12/50\n",
      "2/2 [==============================] - 0s 2ms/step - loss: 43.5602 - mae: 43.5602\n",
      "Epoch 13/50\n",
      "2/2 [==============================] - 0s 1ms/step - loss: 43.0562 - mae: 43.0562\n",
      "Epoch 14/50\n",
      "2/2 [==============================] - 0s 2ms/step - loss: 42.5697 - mae: 42.5697\n",
      "Epoch 15/50\n",
      "2/2 [==============================] - 0s 2ms/step - loss: 42.0891 - mae: 42.0891\n",
      "Epoch 16/50\n",
      "2/2 [==============================] - 0s 2ms/step - loss: 41.5938 - mae: 41.5938\n",
      "Epoch 17/50\n",
      "2/2 [==============================] - 0s 2ms/step - loss: 41.0928 - mae: 41.0928\n",
      "Epoch 18/50\n",
      "2/2 [==============================] - 0s 2ms/step - loss: 40.6065 - mae: 40.6065\n",
      "Epoch 19/50\n",
      "2/2 [==============================] - 0s 1ms/step - loss: 40.1183 - mae: 40.1183\n",
      "Epoch 20/50\n",
      "2/2 [==============================] - 0s 2ms/step - loss: 39.6416 - mae: 39.6416\n",
      "Epoch 21/50\n",
      "2/2 [==============================] - 0s 2ms/step - loss: 39.1511 - mae: 39.1511\n",
      "Epoch 22/50\n",
      "2/2 [==============================] - 0s 2ms/step - loss: 38.6362 - mae: 38.6362\n",
      "Epoch 23/50\n",
      "2/2 [==============================] - 0s 2ms/step - loss: 38.1362 - mae: 38.1362\n",
      "Epoch 24/50\n",
      "2/2 [==============================] - 0s 2ms/step - loss: 37.6247 - mae: 37.6247\n",
      "Epoch 25/50\n",
      "2/2 [==============================] - 0s 2ms/step - loss: 37.1227 - mae: 37.1227\n",
      "Epoch 26/50\n",
      "2/2 [==============================] - 0s 2ms/step - loss: 36.6237 - mae: 36.6237\n",
      "Epoch 27/50\n",
      "2/2 [==============================] - 0s 2ms/step - loss: 36.1175 - mae: 36.1175\n",
      "Epoch 28/50\n",
      "2/2 [==============================] - 0s 2ms/step - loss: 35.6206 - mae: 35.6206\n",
      "Epoch 29/50\n",
      "2/2 [==============================] - 0s 3ms/step - loss: 35.1223 - mae: 35.1223\n",
      "Epoch 30/50\n",
      "2/2 [==============================] - 0s 2ms/step - loss: 34.6195 - mae: 34.6195\n",
      "Epoch 31/50\n",
      "2/2 [==============================] - 0s 2ms/step - loss: 34.1255 - mae: 34.1255\n",
      "Epoch 32/50\n",
      "2/2 [==============================] - 0s 2ms/step - loss: 33.6398 - mae: 33.6398\n",
      "Epoch 33/50\n",
      "2/2 [==============================] - 0s 2ms/step - loss: 33.1417 - mae: 33.1417\n",
      "Epoch 34/50\n",
      "2/2 [==============================] - 0s 2ms/step - loss: 32.6533 - mae: 32.6533\n",
      "Epoch 35/50\n",
      "2/2 [==============================] - 0s 2ms/step - loss: 32.1669 - mae: 32.1669\n",
      "Epoch 36/50\n",
      "2/2 [==============================] - 0s 2ms/step - loss: 31.6763 - mae: 31.6763\n",
      "Epoch 37/50\n",
      "2/2 [==============================] - 0s 1ms/step - loss: 31.1824 - mae: 31.1824\n",
      "Epoch 38/50\n",
      "2/2 [==============================] - 0s 2ms/step - loss: 30.6788 - mae: 30.6788\n",
      "Epoch 39/50\n",
      "2/2 [==============================] - 0s 2ms/step - loss: 30.1843 - mae: 30.1843\n",
      "Epoch 40/50\n",
      "2/2 [==============================] - 0s 2ms/step - loss: 29.6946 - mae: 29.6946\n",
      "Epoch 41/50\n",
      "2/2 [==============================] - 0s 2ms/step - loss: 29.1857 - mae: 29.1857\n",
      "Epoch 42/50\n",
      "2/2 [==============================] - 0s 2ms/step - loss: 28.6714 - mae: 28.6714\n",
      "Epoch 43/50\n",
      "2/2 [==============================] - 0s 1ms/step - loss: 28.1744 - mae: 28.1744\n",
      "Epoch 44/50\n",
      "2/2 [==============================] - 0s 1ms/step - loss: 27.6694 - mae: 27.6694\n",
      "Epoch 45/50\n",
      "2/2 [==============================] - 0s 3ms/step - loss: 27.1708 - mae: 27.1708\n",
      "Epoch 46/50\n",
      "2/2 [==============================] - 0s 2ms/step - loss: 26.6791 - mae: 26.6791\n",
      "Epoch 47/50\n",
      "2/2 [==============================] - 0s 2ms/step - loss: 26.1781 - mae: 26.1781\n",
      "Epoch 48/50\n",
      "2/2 [==============================] - 0s 2ms/step - loss: 25.6744 - mae: 25.6744\n",
      "Epoch 49/50\n",
      "2/2 [==============================] - 0s 2ms/step - loss: 25.1599 - mae: 25.1599\n",
      "Epoch 50/50\n",
      "2/2 [==============================] - 0s 1ms/step - loss: 24.6483 - mae: 24.6483\n"
     ]
    },
    {
     "data": {
      "text/plain": [
       "<keras.callbacks.History at 0x177147b10>"
      ]
     },
     "execution_count": 15,
     "metadata": {},
     "output_type": "execute_result"
    }
   ],
   "source": [
    "tf.random.set_seed(42)\n",
    "\n",
    "model = tf.keras.Sequential([tf.keras.layers.Dense(100, input_shape=[1])])\n",
    "\n",
    "model.compile(loss=tf.keras.losses.mae,\n",
    "              optimizer=tf.keras.optimizers.legacy.SGD(),  \n",
    "              metrics=[\"mae\"])\n",
    "\n",
    "model.fit(X, Y, epochs=50)\n"
   ]
  },
  {
   "cell_type": "code",
   "execution_count": null,
   "metadata": {},
   "outputs": [],
   "source": [
    "model_2 = tf.keras.layers.Sequential([tf.keras.layers.Dense(100)])"
   ]
  }
 ],
 "metadata": {
  "kernelspec": {
   "display_name": "Python 3",
   "language": "python",
   "name": "python3"
  },
  "language_info": {
   "codemirror_mode": {
    "name": "ipython",
    "version": 3
   },
   "file_extension": ".py",
   "mimetype": "text/x-python",
   "name": "python",
   "nbconvert_exporter": "python",
   "pygments_lexer": "ipython3",
   "version": "3.11.0"
  }
 },
 "nbformat": 4,
 "nbformat_minor": 2
}
